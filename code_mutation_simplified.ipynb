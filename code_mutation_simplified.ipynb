{
 "cells": [
  {
   "cell_type": "code",
   "execution_count": 99,
   "id": "sunrise-taste",
   "metadata": {},
   "outputs": [],
   "source": [
    "import os\n",
    "import math\n",
    "import torch\n",
    "import torch.nn as nn\n",
    "import matplotlib\n",
    "import matplotlib.pyplot as plt\n",
    "import torchvision\n",
    "import random\n",
    "import numpy as np\n",
    "from torch.utils.data import DataLoader, Dataset"
   ]
  },
  {
   "cell_type": "code",
   "execution_count": 100,
   "id": "composed-blink",
   "metadata": {},
   "outputs": [],
   "source": [
    "# Data-Set Loader\n",
    "tar0 = torch.load('tar0_small.pt')           # Target dataset\n",
    "x_in = torch.load('x_in_small.pt')           # Images in {t-1}, {t}, {t+1}\n",
    "y_binary = torch.load('y_binary_small.pt')   # Binary target (simplification of tar0) "
   ]
  },
  {
   "cell_type": "code",
   "execution_count": 144,
   "id": "headed-prisoner",
   "metadata": {},
   "outputs": [
    {
     "name": "stdout",
     "output_type": "stream",
     "text": [
      "cpu\n"
     ]
    }
   ],
   "source": [
    "device = torch.device(\"cuda:0\" if torch.cuda.is_available() else \"cpu\")\n",
    "\n",
    "print(device)"
   ]
  },
  {
   "cell_type": "code",
   "execution_count": 145,
   "id": "editorial-locking",
   "metadata": {},
   "outputs": [],
   "source": [
    "def tripple_conv(in_chan, out_chan):\n",
    "    conv =nn.Sequential(\n",
    "        nn.Conv2d(in_chan, out_chan, kernel_size=3, padding=1),\n",
    "        nn.ELU(inplace=True),\n",
    "        nn.Conv2d(out_chan, out_chan, kernel_size=3, padding=1),\n",
    "        nn.ELU(inplace=True),\n",
    "        nn.Conv2d(out_chan, out_chan, kernel_size=3, padding=1),\n",
    "        nn.ELU(inplace=True)\n",
    "    )\n",
    "    return conv\n",
    "\n",
    "def double_conv_sigmoid(in_chan, out_chan):\n",
    "    conv =nn.Sequential(\n",
    "        nn.Conv2d(in_chan, out_chan, kernel_size=3, padding=1),\n",
    "        nn.ELU(inplace=True),\n",
    "        nn.Conv2d(out_chan, out_chan, kernel_size=3, padding=1),\n",
    "        nn.Sigmoid()\n",
    "    )\n",
    "    return conv\n",
    "\n",
    "def double_conv_tanh(in_chan, out_chan):\n",
    "    conv =nn.Sequential(\n",
    "        nn.Conv2d(in_chan, out_chan, kernel_size=3, padding=1),\n",
    "        nn.ELU(inplace=True),\n",
    "        nn.Conv2d(out_chan, out_chan, kernel_size=3, padding=1),\n",
    "        nn.Tanh()\n",
    "    )\n",
    "    return conv"
   ]
  },
  {
   "cell_type": "code",
   "execution_count": 152,
   "id": "brown-university",
   "metadata": {},
   "outputs": [],
   "source": [
    "class UNet(nn.Module):\n",
    "    def __init__(self):\n",
    "        super(UNet, self).__init__()\n",
    "\n",
    "        self.max_pool_2x2 = nn.MaxPool2d(kernel_size=2, stride=2)\n",
    "        self.down_conv_1 = tripple_conv(1, 48)\n",
    "        self.down_conv_2 = tripple_conv(48, 96)\n",
    "        self.down_conv_3 = tripple_conv(96, 192)\n",
    "\n",
    "        self.up_trans_01 = nn.ConvTranspose2d(\n",
    "            in_channels=192,\n",
    "            out_channels=96,\n",
    "            kernel_size=2,\n",
    "            stride=2)\n",
    "        \n",
    "        self.up_conv_01 = tripple_conv(192, 96)\n",
    "        \n",
    "        self.up_trans_02= nn.ConvTranspose2d(\n",
    "            in_channels=96,\n",
    "            out_channels=48,\n",
    "            kernel_size=2,\n",
    "            stride=2)        \n",
    "        \n",
    "        self.up_conv_02 = tripple_conv(96, 48)\n",
    "        \n",
    "        #### 2nd temporal context module ####\n",
    "    \n",
    "        self.down_conv_11 = tripple_conv(144, 48)\n",
    "        self.down_conv_12 = tripple_conv(48, 96)\n",
    "        self.down_conv_13 = tripple_conv(96, 192)\n",
    "        \n",
    "        self.up_trans_11 = nn.ConvTranspose2d(\n",
    "            in_channels=192,\n",
    "            out_channels=96,\n",
    "            kernel_size=2,\n",
    "            stride=2)\n",
    "        self.up_conv_11 = tripple_conv(192, 96)\n",
    "        \n",
    "        self.up_trans_12= nn.ConvTranspose2d(\n",
    "            in_channels=96,\n",
    "            out_channels=48,\n",
    "            kernel_size=2,\n",
    "            stride=2)         \n",
    "        \n",
    "        self.up_conv_12 = tripple_conv(96, 48)   \n",
    "        \n",
    "        #### Head output ####\n",
    "\n",
    "\n",
    "        self.out_coor_brightness =  double_conv_sigmoid(48, 1)    \n",
    "     \n",
    "\n",
    "    def forward(self, image):\n",
    "        x01 = self.down_conv_1(image)\n",
    "        x02 =  self.max_pool_2x2(x01)\n",
    "        x03 = self.down_conv_2(x02)\n",
    "        x04 =  self.max_pool_2x2(x03) \n",
    "        x05 = self.down_conv_3(x04)\n",
    "\n",
    "        #decoder\n",
    "        x11 = self.up_trans_01(x05)\n",
    "        x12= self.up_conv_01(torch.cat([x11, x03], 1))\n",
    "        x13 = self.up_trans_02(x12)\n",
    "        x14 = self.up_conv_02(torch.cat([x13, x01], 1))\n",
    "        return x14\n",
    "\n",
    "    def temporal_context(self, image_t_min_1, image_t, image_t_plus_1):\n",
    "        \n",
    "        t_min_1 = self.forward(image_t_min_1)\n",
    "        t = self.forward(image_t)\n",
    "        t_plus_1 = self.forward(image_t_plus_1)\n",
    "        output = torch.cat((t_min_1, t, t_plus_1), 1)\n",
    "        return output\n",
    "\n",
    "    def forward2(self, image_t_min_1, image_t, image_t_plus_1):\n",
    "        image1 = self.temporal_context(image_t_min_1, image_t, image_t_plus_1)\n",
    "        x21 = self.down_conv_11(image1) \n",
    "        x22 =  self.max_pool_2x2(x21) \n",
    "        x23 = self.down_conv_12(x22)    \n",
    "        x24 =  self.max_pool_2x2(x23) \n",
    "        x25 = self.down_conv_13(x24)\n",
    "       \n",
    "        #decoder\n",
    "        x31 = self.up_trans_11(x25)\n",
    "        x32= self.up_conv_11(torch.cat([x31, x23], 1))\n",
    "        x33 = self.up_trans_12(x32)\n",
    "        x34 = self.up_conv_12(torch.cat([x33, x21], 1))                \n",
    "\n",
    "        return x34   \n",
    "\n",
    "    def mono_head(self, x_in):\n",
    "        image_t_min_1 = torch.zeros((1, 1, 40, 40))\n",
    "        image_t = torch.zeros((1, 1, 40, 40))\n",
    "        image_t_plus_1 = torch.zeros((1, 1, 40, 40))\n",
    "\n",
    "        image_t_min_1[0,0]=   x_in[0,:,:]   \n",
    "        image_t[0,0]=   x_in[1,:,:]\n",
    "        image_t_plus_1[0,0]=   x_in[2,:,:]\n",
    "        \n",
    "        head_split= self.forward2(image_t_min_1, image_t, image_t_plus_1)\n",
    "        out_coordinates_brightness = self.out_coor_brightness(head_split)\n",
    "\n",
    "        return out_coordinates_brightness\n",
    "    "
   ]
  },
  {
   "cell_type": "code",
   "execution_count": 153,
   "id": "loaded-ranch",
   "metadata": {},
   "outputs": [
    {
     "name": "stdout",
     "output_type": "stream",
     "text": [
      "UNet(\n",
      "  (max_pool_2x2): MaxPool2d(kernel_size=2, stride=2, padding=0, dilation=1, ceil_mode=False)\n",
      "  (down_conv_1): Sequential(\n",
      "    (0): Conv2d(1, 48, kernel_size=(3, 3), stride=(1, 1), padding=(1, 1))\n",
      "    (1): ELU(alpha=1.0, inplace=True)\n",
      "    (2): Conv2d(48, 48, kernel_size=(3, 3), stride=(1, 1), padding=(1, 1))\n",
      "    (3): ELU(alpha=1.0, inplace=True)\n",
      "    (4): Conv2d(48, 48, kernel_size=(3, 3), stride=(1, 1), padding=(1, 1))\n",
      "    (5): ELU(alpha=1.0, inplace=True)\n",
      "  )\n",
      "  (down_conv_2): Sequential(\n",
      "    (0): Conv2d(48, 96, kernel_size=(3, 3), stride=(1, 1), padding=(1, 1))\n",
      "    (1): ELU(alpha=1.0, inplace=True)\n",
      "    (2): Conv2d(96, 96, kernel_size=(3, 3), stride=(1, 1), padding=(1, 1))\n",
      "    (3): ELU(alpha=1.0, inplace=True)\n",
      "    (4): Conv2d(96, 96, kernel_size=(3, 3), stride=(1, 1), padding=(1, 1))\n",
      "    (5): ELU(alpha=1.0, inplace=True)\n",
      "  )\n",
      "  (down_conv_3): Sequential(\n",
      "    (0): Conv2d(96, 192, kernel_size=(3, 3), stride=(1, 1), padding=(1, 1))\n",
      "    (1): ELU(alpha=1.0, inplace=True)\n",
      "    (2): Conv2d(192, 192, kernel_size=(3, 3), stride=(1, 1), padding=(1, 1))\n",
      "    (3): ELU(alpha=1.0, inplace=True)\n",
      "    (4): Conv2d(192, 192, kernel_size=(3, 3), stride=(1, 1), padding=(1, 1))\n",
      "    (5): ELU(alpha=1.0, inplace=True)\n",
      "  )\n",
      "  (up_trans_01): ConvTranspose2d(192, 96, kernel_size=(2, 2), stride=(2, 2))\n",
      "  (up_conv_01): Sequential(\n",
      "    (0): Conv2d(192, 96, kernel_size=(3, 3), stride=(1, 1), padding=(1, 1))\n",
      "    (1): ELU(alpha=1.0, inplace=True)\n",
      "    (2): Conv2d(96, 96, kernel_size=(3, 3), stride=(1, 1), padding=(1, 1))\n",
      "    (3): ELU(alpha=1.0, inplace=True)\n",
      "    (4): Conv2d(96, 96, kernel_size=(3, 3), stride=(1, 1), padding=(1, 1))\n",
      "    (5): ELU(alpha=1.0, inplace=True)\n",
      "  )\n",
      "  (up_trans_02): ConvTranspose2d(96, 48, kernel_size=(2, 2), stride=(2, 2))\n",
      "  (up_conv_02): Sequential(\n",
      "    (0): Conv2d(96, 48, kernel_size=(3, 3), stride=(1, 1), padding=(1, 1))\n",
      "    (1): ELU(alpha=1.0, inplace=True)\n",
      "    (2): Conv2d(48, 48, kernel_size=(3, 3), stride=(1, 1), padding=(1, 1))\n",
      "    (3): ELU(alpha=1.0, inplace=True)\n",
      "    (4): Conv2d(48, 48, kernel_size=(3, 3), stride=(1, 1), padding=(1, 1))\n",
      "    (5): ELU(alpha=1.0, inplace=True)\n",
      "  )\n",
      "  (down_conv_11): Sequential(\n",
      "    (0): Conv2d(144, 48, kernel_size=(3, 3), stride=(1, 1), padding=(1, 1))\n",
      "    (1): ELU(alpha=1.0, inplace=True)\n",
      "    (2): Conv2d(48, 48, kernel_size=(3, 3), stride=(1, 1), padding=(1, 1))\n",
      "    (3): ELU(alpha=1.0, inplace=True)\n",
      "    (4): Conv2d(48, 48, kernel_size=(3, 3), stride=(1, 1), padding=(1, 1))\n",
      "    (5): ELU(alpha=1.0, inplace=True)\n",
      "  )\n",
      "  (down_conv_12): Sequential(\n",
      "    (0): Conv2d(48, 96, kernel_size=(3, 3), stride=(1, 1), padding=(1, 1))\n",
      "    (1): ELU(alpha=1.0, inplace=True)\n",
      "    (2): Conv2d(96, 96, kernel_size=(3, 3), stride=(1, 1), padding=(1, 1))\n",
      "    (3): ELU(alpha=1.0, inplace=True)\n",
      "    (4): Conv2d(96, 96, kernel_size=(3, 3), stride=(1, 1), padding=(1, 1))\n",
      "    (5): ELU(alpha=1.0, inplace=True)\n",
      "  )\n",
      "  (down_conv_13): Sequential(\n",
      "    (0): Conv2d(96, 192, kernel_size=(3, 3), stride=(1, 1), padding=(1, 1))\n",
      "    (1): ELU(alpha=1.0, inplace=True)\n",
      "    (2): Conv2d(192, 192, kernel_size=(3, 3), stride=(1, 1), padding=(1, 1))\n",
      "    (3): ELU(alpha=1.0, inplace=True)\n",
      "    (4): Conv2d(192, 192, kernel_size=(3, 3), stride=(1, 1), padding=(1, 1))\n",
      "    (5): ELU(alpha=1.0, inplace=True)\n",
      "  )\n",
      "  (up_trans_11): ConvTranspose2d(192, 96, kernel_size=(2, 2), stride=(2, 2))\n",
      "  (up_conv_11): Sequential(\n",
      "    (0): Conv2d(192, 96, kernel_size=(3, 3), stride=(1, 1), padding=(1, 1))\n",
      "    (1): ELU(alpha=1.0, inplace=True)\n",
      "    (2): Conv2d(96, 96, kernel_size=(3, 3), stride=(1, 1), padding=(1, 1))\n",
      "    (3): ELU(alpha=1.0, inplace=True)\n",
      "    (4): Conv2d(96, 96, kernel_size=(3, 3), stride=(1, 1), padding=(1, 1))\n",
      "    (5): ELU(alpha=1.0, inplace=True)\n",
      "  )\n",
      "  (up_trans_12): ConvTranspose2d(96, 48, kernel_size=(2, 2), stride=(2, 2))\n",
      "  (up_conv_12): Sequential(\n",
      "    (0): Conv2d(96, 48, kernel_size=(3, 3), stride=(1, 1), padding=(1, 1))\n",
      "    (1): ELU(alpha=1.0, inplace=True)\n",
      "    (2): Conv2d(48, 48, kernel_size=(3, 3), stride=(1, 1), padding=(1, 1))\n",
      "    (3): ELU(alpha=1.0, inplace=True)\n",
      "    (4): Conv2d(48, 48, kernel_size=(3, 3), stride=(1, 1), padding=(1, 1))\n",
      "    (5): ELU(alpha=1.0, inplace=True)\n",
      "  )\n",
      "  (out_coor_brightness): Sequential(\n",
      "    (0): Conv2d(48, 1, kernel_size=(3, 3), stride=(1, 1), padding=(1, 1))\n",
      "    (1): ELU(alpha=1.0, inplace=True)\n",
      "    (2): Conv2d(1, 1, kernel_size=(3, 3), stride=(1, 1), padding=(1, 1))\n",
      "    (3): Sigmoid()\n",
      "  )\n",
      ")\n"
     ]
    }
   ],
   "source": [
    "#### Defining model and showing architecture ####\n",
    "if __name__ == \"__main__\":\n",
    "\n",
    "    \n",
    "    model_bolean = UNet().to(device)\n",
    "    print(model_bolean)"
   ]
  },
  {
   "cell_type": "code",
   "execution_count": 154,
   "id": "shared-carroll",
   "metadata": {},
   "outputs": [
    {
     "data": {
      "image/png": "[encoded data removed]",
      "text/plain": [
       "<Figure size 432x288 with 1 Axes>"
      ]
     },
     "metadata": {
      "needs_background": "light"
     },
     "output_type": "display_data"
    },
    {
     "data": {
      "image/png": "[encoded data removed]",
      "text/plain": [
       "<Figure size 432x288 with 1 Axes>"
      ]
     },
     "metadata": {
      "needs_background": "light"
     },
     "output_type": "display_data"
    },
    {
     "data": {
      "image/png": "[encoded data removed]",
      "text/plain": [
       "<Figure size 432x288 with 1 Axes>"
      ]
     },
     "metadata": {
      "needs_background": "light"
     },
     "output_type": "display_data"
    }
   ],
   "source": [
    "#### Visualizing the data ####\n",
    "# Plotting input images x_{t-1}, x_{t}, x_{t+1} \n",
    "# with true label, bigger size of red dot means bigger brightness of the emitter\n",
    "\n",
    "idx = 11\n",
    "plt.imshow(x_in[idx,0,:,:], cmap='gray')\n",
    "plt.scatter(tar0[idx,:,2], tar0[idx,:,1], s=300*tar0[idx,:,0], c='red')\n",
    "plt.show()\n",
    "\n",
    "plt.imshow(x_in[idx,1,:,:], cmap='gray')\n",
    "plt.scatter(tar0[idx,:,2], tar0[idx,:,1], s=300*tar0[idx,:,0], c='red')\n",
    "plt.show()\n",
    "\n",
    "plt.imshow(x_in[idx,2,:,:], cmap='gray')\n",
    "plt.scatter(tar0[idx,:,2], tar0[idx,:,1], s=300*tar0[idx,:,0], c='red')\n",
    "plt.show()"
   ]
  },
  {
   "cell_type": "code",
   "execution_count": 155,
   "id": "established-louisiana",
   "metadata": {},
   "outputs": [
    {
     "data": {
      "image/png": "[encoded data removed]",
      "text/plain": [
       "<Figure size 432x288 with 1 Axes>"
      ]
     },
     "metadata": {
      "needs_background": "light"
     },
     "output_type": "display_data"
    }
   ],
   "source": [
    "# simplified binary grid counterpart of the above image\n",
    "# scatter plot resembles true position\n",
    "plt.imshow(y_binary[idx,0,:,:].T, cmap='gray')\n",
    "plt.scatter( tar0[idx,:,2],  tar0[idx,:,1], c='red', alpha=0.4)\n",
    "plt.show()"
   ]
  },
  {
   "cell_type": "code",
   "execution_count": 156,
   "id": "gentle-evanescence",
   "metadata": {},
   "outputs": [
    {
     "name": "stdout",
     "output_type": "stream",
     "text": [
      "Epoch # 1\n",
      "#training instance 500\n"
     ]
    },
    {
     "ename": "KeyboardInterrupt",
     "evalue": "",
     "output_type": "error",
     "traceback": [
      "\u001b[1;31m---------------------------------------------------------------------------\u001b[0m",
      "\u001b[1;31mKeyboardInterrupt\u001b[0m                         Traceback (most recent call last)",
      "\u001b[1;32m<ipython-input-156-5d1c6221fd01>\u001b[0m in \u001b[0;36m<module>\u001b[1;34m\u001b[0m\n\u001b[0;32m     35\u001b[0m         \u001b[0moutput\u001b[0m \u001b[1;33m=\u001b[0m \u001b[0mloss\u001b[0m\u001b[1;33m(\u001b[0m\u001b[0my_pred\u001b[0m\u001b[1;33m.\u001b[0m\u001b[0mto\u001b[0m\u001b[1;33m(\u001b[0m\u001b[0mdevice\u001b[0m\u001b[1;33m)\u001b[0m\u001b[1;33m,\u001b[0m \u001b[0my_binary\u001b[0m\u001b[1;33m[\u001b[0m\u001b[0midx\u001b[0m\u001b[1;33m,\u001b[0m\u001b[1;36m0\u001b[0m\u001b[1;33m,\u001b[0m\u001b[1;33m:\u001b[0m\u001b[1;33m,\u001b[0m\u001b[1;33m:\u001b[0m\u001b[1;33m]\u001b[0m\u001b[1;33m.\u001b[0m\u001b[0mto\u001b[0m\u001b[1;33m(\u001b[0m\u001b[0mdevice\u001b[0m\u001b[1;33m)\u001b[0m\u001b[1;33m)\u001b[0m\u001b[1;33m\u001b[0m\u001b[1;33m\u001b[0m\u001b[0m\n\u001b[0;32m     36\u001b[0m         \u001b[0moutput\u001b[0m\u001b[1;33m.\u001b[0m\u001b[0mbackward\u001b[0m\u001b[1;33m(\u001b[0m\u001b[1;33m)\u001b[0m\u001b[1;33m\u001b[0m\u001b[1;33m\u001b[0m\u001b[0m\n\u001b[1;32m---> 37\u001b[1;33m         \u001b[0moptimizer\u001b[0m\u001b[1;33m.\u001b[0m\u001b[0mstep\u001b[0m\u001b[1;33m(\u001b[0m\u001b[1;33m)\u001b[0m\u001b[1;33m\u001b[0m\u001b[1;33m\u001b[0m\u001b[0m\n\u001b[0m\u001b[0;32m     38\u001b[0m \u001b[1;33m\u001b[0m\u001b[0m\n\u001b[0;32m     39\u001b[0m \u001b[1;33m\u001b[0m\u001b[0m\n",
      "\u001b[1;32m~\\anaconda3\\envs\\decode_env\\lib\\site-packages\\torch\\autograd\\grad_mode.py\u001b[0m in \u001b[0;36mdecorate_context\u001b[1;34m(*args, **kwargs)\u001b[0m\n\u001b[0;32m     24\u001b[0m         \u001b[1;32mdef\u001b[0m \u001b[0mdecorate_context\u001b[0m\u001b[1;33m(\u001b[0m\u001b[1;33m*\u001b[0m\u001b[0margs\u001b[0m\u001b[1;33m,\u001b[0m \u001b[1;33m**\u001b[0m\u001b[0mkwargs\u001b[0m\u001b[1;33m)\u001b[0m\u001b[1;33m:\u001b[0m\u001b[1;33m\u001b[0m\u001b[1;33m\u001b[0m\u001b[0m\n\u001b[0;32m     25\u001b[0m             \u001b[1;32mwith\u001b[0m \u001b[0mself\u001b[0m\u001b[1;33m.\u001b[0m\u001b[0m__class__\u001b[0m\u001b[1;33m(\u001b[0m\u001b[1;33m)\u001b[0m\u001b[1;33m:\u001b[0m\u001b[1;33m\u001b[0m\u001b[1;33m\u001b[0m\u001b[0m\n\u001b[1;32m---> 26\u001b[1;33m                 \u001b[1;32mreturn\u001b[0m \u001b[0mfunc\u001b[0m\u001b[1;33m(\u001b[0m\u001b[1;33m*\u001b[0m\u001b[0margs\u001b[0m\u001b[1;33m,\u001b[0m \u001b[1;33m**\u001b[0m\u001b[0mkwargs\u001b[0m\u001b[1;33m)\u001b[0m\u001b[1;33m\u001b[0m\u001b[1;33m\u001b[0m\u001b[0m\n\u001b[0m\u001b[0;32m     27\u001b[0m         \u001b[1;32mreturn\u001b[0m \u001b[0mcast\u001b[0m\u001b[1;33m(\u001b[0m\u001b[0mF\u001b[0m\u001b[1;33m,\u001b[0m \u001b[0mdecorate_context\u001b[0m\u001b[1;33m)\u001b[0m\u001b[1;33m\u001b[0m\u001b[1;33m\u001b[0m\u001b[0m\n\u001b[0;32m     28\u001b[0m \u001b[1;33m\u001b[0m\u001b[0m\n",
      "\u001b[1;32m~\\anaconda3\\envs\\decode_env\\lib\\site-packages\\torch\\optim\\adamw.py\u001b[0m in \u001b[0;36mstep\u001b[1;34m(self, closure)\u001b[0m\n\u001b[0;32m    114\u001b[0m                 \u001b[0mstep_size\u001b[0m \u001b[1;33m=\u001b[0m \u001b[0mgroup\u001b[0m\u001b[1;33m[\u001b[0m\u001b[1;34m'lr'\u001b[0m\u001b[1;33m]\u001b[0m \u001b[1;33m/\u001b[0m \u001b[0mbias_correction1\u001b[0m\u001b[1;33m\u001b[0m\u001b[1;33m\u001b[0m\u001b[0m\n\u001b[0;32m    115\u001b[0m \u001b[1;33m\u001b[0m\u001b[0m\n\u001b[1;32m--> 116\u001b[1;33m                 \u001b[0mp\u001b[0m\u001b[1;33m.\u001b[0m\u001b[0maddcdiv_\u001b[0m\u001b[1;33m(\u001b[0m\u001b[0mexp_avg\u001b[0m\u001b[1;33m,\u001b[0m \u001b[0mdenom\u001b[0m\u001b[1;33m,\u001b[0m \u001b[0mvalue\u001b[0m\u001b[1;33m=\u001b[0m\u001b[1;33m-\u001b[0m\u001b[0mstep_size\u001b[0m\u001b[1;33m)\u001b[0m\u001b[1;33m\u001b[0m\u001b[1;33m\u001b[0m\u001b[0m\n\u001b[0m\u001b[0;32m    117\u001b[0m \u001b[1;33m\u001b[0m\u001b[0m\n\u001b[0;32m    118\u001b[0m         \u001b[1;32mreturn\u001b[0m \u001b[0mloss\u001b[0m\u001b[1;33m\u001b[0m\u001b[1;33m\u001b[0m\u001b[0m\n",
      "\u001b[1;31mKeyboardInterrupt\u001b[0m: "
     ]
    }
   ],
   "source": [
    "### Simplified training of DECODE ###\n",
    "\n",
    "########RESET PARAM#######\n",
    "# for layer in model_bolean.children():\n",
    "#    if hasattr(layer, 'reset_parameters'):\n",
    "#        layer.reset_parameters()\n",
    "##########################\n",
    "\n",
    "amount_epoch = 50\n",
    "amount_samples = len(tar0)\n",
    "epoch_set = 0\n",
    "\n",
    "loss = nn.BCELoss()\n",
    "optimizer = torch.optim.AdamW(model_bolean.parameters(), lr=0.001, betas=(0.9, 0.999), \n",
    "                              eps=1e-08, weight_decay=0.01, amsgrad=False)\n",
    "for epoch in range(amount_epoch):\n",
    "    epoch_set = epoch_set+1 \n",
    "    print('Epoch #', epoch_set)\n",
    "    i = 0\n",
    "    r = list(range(amount_samples))\n",
    "    \n",
    "    for idx in r:\n",
    "        optimizer.zero_grad()\n",
    "        i = i + 1\n",
    "        \n",
    "        if i == 500:\n",
    "            print('#training instance', i)\n",
    "        if i%1000 ==0:\n",
    "            print('#training instance', i)\n",
    "\n",
    "\n",
    "        y_pred = model_bolean.mono_head(x_in[idx,:,:,:].to(device))\n",
    "        y_pred = y_pred[0].to(device)\n",
    "        y_pred = y_pred[0].to(device)\n",
    "\n",
    "        random.shuffle(r)\n",
    "        output = loss(y_pred.to(device), y_binary[idx,0,:,:].to(device))\n",
    "        output.backward()\n",
    "        optimizer.step()"
   ]
  },
  {
   "cell_type": "code",
   "execution_count": null,
   "id": "antique-coating",
   "metadata": {},
   "outputs": [],
   "source": [
    "### Visualizing the results ###\n",
    "idx = 108\n",
    "if __name__ == \"__main__\":\n",
    "\n",
    "    \n",
    "    y_pred = model_bolean.mono_head(x_in[10,:,:,:])\n",
    "    y_pred_np = y_pred.detach().numpy()\n",
    "    plt.imshow(y_pred_np[0,0,:,:], cmap='gray')\n",
    "#     plt.scatter(tar0[idx,:,2], tar0[idx,:,1], s=300*tar0[idx,:,0], c='red', alpha=0.2)\n",
    "    plt.show()\n",
    "print(np.min(y_pred_np)) "
   ]
  },
  {
   "cell_type": "code",
   "execution_count": null,
   "id": "coastal-france",
   "metadata": {},
   "outputs": [],
   "source": []
  }
 ],
 "metadata": {
  "kernelspec": {
   "display_name": "Python 3",
   "language": "python",
   "name": "python3"
  },
  "language_info": {
   "codemirror_mode": {
    "name": "ipython",
    "version": 3
   },
   "file_extension": ".py",
   "mimetype": "text/x-python",
   "name": "python",
   "nbconvert_exporter": "python",
   "pygments_lexer": "ipython3",
   "version": "3.8.8"
  }
 },
 "nbformat": 4,
 "nbformat_minor": 5
}
