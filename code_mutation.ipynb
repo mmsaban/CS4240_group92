{
  "nbformat": 4,
  "nbformat_minor": 5,
  "metadata": {
    "accelerator": "GPU",
    "colab": {
      "name": "mutatie_code.ipynb",
      "provenance": [],
      "include_colab_link": true
    },
    "kernelspec": {
      "display_name": "Python 3",
      "language": "python",
      "name": "python3"
    },
    "language_info": {
      "codemirror_mode": {
        "name": "ipython",
        "version": 3
      },
      "file_extension": ".py",
      "mimetype": "text/x-python",
      "name": "python",
      "nbconvert_exporter": "python",
      "pygments_lexer": "ipython3",
      "version": "3.8.8"
    }
  },
  "cells": [
    {
      "cell_type": "markdown",
      "metadata": {
        "id": "view-in-github",
        "colab_type": "text"
      },
      "source": [
        "<a href=\"https://colab.research.google.com/github/mmsaban/CS4240_group92/blob/main/code_mutation.ipynb\" target=\"_parent\"><img src=\"https://colab.research.google.com/assets/colab-badge.svg\" alt=\"Open In Colab\"/></a>"
      ]
    },
    {
      "cell_type": "code",
      "metadata": {
        "id": "sunrise-taste"
      },
      "source": [
        "import os\n",
        "import math\n",
        "import torch\n",
        "import torch.nn as nn\n",
        "import matplotlib\n",
        "import matplotlib.pyplot as plt\n",
        "import torchvision\n",
        "import random"
      ],
      "id": "sunrise-taste",
      "execution_count": null,
      "outputs": []
    },
    {
      "cell_type": "code",
      "metadata": {
        "id": "composed-blink",
        "colab": {
          "base_uri": "https://localhost:8080/",
          "height": 398
        },
        "outputId": "c8c526d0-11c0-4444-fe45-04cbbbafda12"
      },
      "source": [
        "# Data-Set Loader\n",
        "tar0 = torch.load('tar_0.pt')\n",
        "tar1 = torch.load('tar_1.pt')\n",
        "tar2 = torch.load('tar_2.pt')\n",
        "x_in = torch.load('x_in012.pt')\n",
        "x_100_in =  x_in[100,:,:,:]\n",
        "# torch.save(x_100_in, 'x_100_in.pt')\n",
        "# x_100_in = torch.load('x_100_in.pt')\n",
        "# y = torch.load('y_0_approx.pt')\n",
        "# y_binary = torch.load('y_binary.pt')\n",
        "# y_100_binary = y_binary[100,:,:,:]\n",
        "# torch.save(y_100_binary, 'y_100_binary.pt')"
      ],
      "id": "composed-blink",
      "execution_count": null,
      "outputs": [
        {
          "output_type": "error",
          "ename": "FileNotFoundError",
          "evalue": "ignored",
          "traceback": [
            "\u001b[0;31m---------------------------------------------------------------------------\u001b[0m",
            "\u001b[0;31mFileNotFoundError\u001b[0m                         Traceback (most recent call last)",
            "\u001b[0;32m<ipython-input-9-b0f8abcb1315>\u001b[0m in \u001b[0;36m<module>\u001b[0;34m()\u001b[0m\n\u001b[1;32m      1\u001b[0m \u001b[0;31m# Data-Set Loader\u001b[0m\u001b[0;34m\u001b[0m\u001b[0;34m\u001b[0m\u001b[0;34m\u001b[0m\u001b[0m\n\u001b[0;32m----> 2\u001b[0;31m \u001b[0mtar0\u001b[0m \u001b[0;34m=\u001b[0m \u001b[0mtorch\u001b[0m\u001b[0;34m.\u001b[0m\u001b[0mload\u001b[0m\u001b[0;34m(\u001b[0m\u001b[0;34m'tar_0.pt'\u001b[0m\u001b[0;34m)\u001b[0m\u001b[0;34m\u001b[0m\u001b[0;34m\u001b[0m\u001b[0m\n\u001b[0m\u001b[1;32m      3\u001b[0m \u001b[0mtar1\u001b[0m \u001b[0;34m=\u001b[0m \u001b[0mtorch\u001b[0m\u001b[0;34m.\u001b[0m\u001b[0mload\u001b[0m\u001b[0;34m(\u001b[0m\u001b[0;34m'tar_1.pt'\u001b[0m\u001b[0;34m)\u001b[0m\u001b[0;34m\u001b[0m\u001b[0;34m\u001b[0m\u001b[0m\n\u001b[1;32m      4\u001b[0m \u001b[0mtar2\u001b[0m \u001b[0;34m=\u001b[0m \u001b[0mtorch\u001b[0m\u001b[0;34m.\u001b[0m\u001b[0mload\u001b[0m\u001b[0;34m(\u001b[0m\u001b[0;34m'tar_2.pt'\u001b[0m\u001b[0;34m)\u001b[0m\u001b[0;34m\u001b[0m\u001b[0;34m\u001b[0m\u001b[0m\n\u001b[1;32m      5\u001b[0m \u001b[0mx_in\u001b[0m \u001b[0;34m=\u001b[0m \u001b[0mtorch\u001b[0m\u001b[0;34m.\u001b[0m\u001b[0mload\u001b[0m\u001b[0;34m(\u001b[0m\u001b[0;34m'x_in012.pt'\u001b[0m\u001b[0;34m)\u001b[0m\u001b[0;34m\u001b[0m\u001b[0;34m\u001b[0m\u001b[0m\n",
            "\u001b[0;32m/usr/local/lib/python3.7/dist-packages/torch/serialization.py\u001b[0m in \u001b[0;36mload\u001b[0;34m(f, map_location, pickle_module, **pickle_load_args)\u001b[0m\n\u001b[1;32m    577\u001b[0m         \u001b[0mpickle_load_args\u001b[0m\u001b[0;34m[\u001b[0m\u001b[0;34m'encoding'\u001b[0m\u001b[0;34m]\u001b[0m \u001b[0;34m=\u001b[0m \u001b[0;34m'utf-8'\u001b[0m\u001b[0;34m\u001b[0m\u001b[0;34m\u001b[0m\u001b[0m\n\u001b[1;32m    578\u001b[0m \u001b[0;34m\u001b[0m\u001b[0m\n\u001b[0;32m--> 579\u001b[0;31m     \u001b[0;32mwith\u001b[0m \u001b[0m_open_file_like\u001b[0m\u001b[0;34m(\u001b[0m\u001b[0mf\u001b[0m\u001b[0;34m,\u001b[0m \u001b[0;34m'rb'\u001b[0m\u001b[0;34m)\u001b[0m \u001b[0;32mas\u001b[0m \u001b[0mopened_file\u001b[0m\u001b[0;34m:\u001b[0m\u001b[0;34m\u001b[0m\u001b[0;34m\u001b[0m\u001b[0m\n\u001b[0m\u001b[1;32m    580\u001b[0m         \u001b[0;32mif\u001b[0m \u001b[0m_is_zipfile\u001b[0m\u001b[0;34m(\u001b[0m\u001b[0mopened_file\u001b[0m\u001b[0;34m)\u001b[0m\u001b[0;34m:\u001b[0m\u001b[0;34m\u001b[0m\u001b[0;34m\u001b[0m\u001b[0m\n\u001b[1;32m    581\u001b[0m             \u001b[0;31m# The zipfile reader is going to advance the current file position.\u001b[0m\u001b[0;34m\u001b[0m\u001b[0;34m\u001b[0m\u001b[0;34m\u001b[0m\u001b[0m\n",
            "\u001b[0;32m/usr/local/lib/python3.7/dist-packages/torch/serialization.py\u001b[0m in \u001b[0;36m_open_file_like\u001b[0;34m(name_or_buffer, mode)\u001b[0m\n\u001b[1;32m    228\u001b[0m \u001b[0;32mdef\u001b[0m \u001b[0m_open_file_like\u001b[0m\u001b[0;34m(\u001b[0m\u001b[0mname_or_buffer\u001b[0m\u001b[0;34m,\u001b[0m \u001b[0mmode\u001b[0m\u001b[0;34m)\u001b[0m\u001b[0;34m:\u001b[0m\u001b[0;34m\u001b[0m\u001b[0;34m\u001b[0m\u001b[0m\n\u001b[1;32m    229\u001b[0m     \u001b[0;32mif\u001b[0m \u001b[0m_is_path\u001b[0m\u001b[0;34m(\u001b[0m\u001b[0mname_or_buffer\u001b[0m\u001b[0;34m)\u001b[0m\u001b[0;34m:\u001b[0m\u001b[0;34m\u001b[0m\u001b[0;34m\u001b[0m\u001b[0m\n\u001b[0;32m--> 230\u001b[0;31m         \u001b[0;32mreturn\u001b[0m \u001b[0m_open_file\u001b[0m\u001b[0;34m(\u001b[0m\u001b[0mname_or_buffer\u001b[0m\u001b[0;34m,\u001b[0m \u001b[0mmode\u001b[0m\u001b[0;34m)\u001b[0m\u001b[0;34m\u001b[0m\u001b[0;34m\u001b[0m\u001b[0m\n\u001b[0m\u001b[1;32m    231\u001b[0m     \u001b[0;32melse\u001b[0m\u001b[0;34m:\u001b[0m\u001b[0;34m\u001b[0m\u001b[0;34m\u001b[0m\u001b[0m\n\u001b[1;32m    232\u001b[0m         \u001b[0;32mif\u001b[0m \u001b[0;34m'w'\u001b[0m \u001b[0;32min\u001b[0m \u001b[0mmode\u001b[0m\u001b[0;34m:\u001b[0m\u001b[0;34m\u001b[0m\u001b[0;34m\u001b[0m\u001b[0m\n",
            "\u001b[0;32m/usr/local/lib/python3.7/dist-packages/torch/serialization.py\u001b[0m in \u001b[0;36m__init__\u001b[0;34m(self, name, mode)\u001b[0m\n\u001b[1;32m    209\u001b[0m \u001b[0;32mclass\u001b[0m \u001b[0m_open_file\u001b[0m\u001b[0;34m(\u001b[0m\u001b[0m_opener\u001b[0m\u001b[0;34m)\u001b[0m\u001b[0;34m:\u001b[0m\u001b[0;34m\u001b[0m\u001b[0;34m\u001b[0m\u001b[0m\n\u001b[1;32m    210\u001b[0m     \u001b[0;32mdef\u001b[0m \u001b[0m__init__\u001b[0m\u001b[0;34m(\u001b[0m\u001b[0mself\u001b[0m\u001b[0;34m,\u001b[0m \u001b[0mname\u001b[0m\u001b[0;34m,\u001b[0m \u001b[0mmode\u001b[0m\u001b[0;34m)\u001b[0m\u001b[0;34m:\u001b[0m\u001b[0;34m\u001b[0m\u001b[0;34m\u001b[0m\u001b[0m\n\u001b[0;32m--> 211\u001b[0;31m         \u001b[0msuper\u001b[0m\u001b[0;34m(\u001b[0m\u001b[0m_open_file\u001b[0m\u001b[0;34m,\u001b[0m \u001b[0mself\u001b[0m\u001b[0;34m)\u001b[0m\u001b[0;34m.\u001b[0m\u001b[0m__init__\u001b[0m\u001b[0;34m(\u001b[0m\u001b[0mopen\u001b[0m\u001b[0;34m(\u001b[0m\u001b[0mname\u001b[0m\u001b[0;34m,\u001b[0m \u001b[0mmode\u001b[0m\u001b[0;34m)\u001b[0m\u001b[0;34m)\u001b[0m\u001b[0;34m\u001b[0m\u001b[0;34m\u001b[0m\u001b[0m\n\u001b[0m\u001b[1;32m    212\u001b[0m \u001b[0;34m\u001b[0m\u001b[0m\n\u001b[1;32m    213\u001b[0m     \u001b[0;32mdef\u001b[0m \u001b[0m__exit__\u001b[0m\u001b[0;34m(\u001b[0m\u001b[0mself\u001b[0m\u001b[0;34m,\u001b[0m \u001b[0;34m*\u001b[0m\u001b[0margs\u001b[0m\u001b[0;34m)\u001b[0m\u001b[0;34m:\u001b[0m\u001b[0;34m\u001b[0m\u001b[0;34m\u001b[0m\u001b[0m\n",
            "\u001b[0;31mFileNotFoundError\u001b[0m: [Errno 2] No such file or directory: 'tar_0.pt'"
          ]
        }
      ]
    },
    {
      "cell_type": "code",
      "metadata": {
        "id": "nDI9DUi1JuSG"
      },
      "source": [
        "y_1_binary = y_binary[1,:,:,:]\n",
        "x_1_in =  x_in[1,:,:,:]"
      ],
      "id": "nDI9DUi1JuSG",
      "execution_count": null,
      "outputs": []
    },
    {
      "cell_type": "code",
      "metadata": {
        "colab": {
          "base_uri": "https://localhost:8080/"
        },
        "id": "pending-subject",
        "outputId": "b3996c1c-cdd4-430d-d6e4-0c6f9af18e7d"
      },
      "source": [
        "import os\n",
        "os.environ[\"CUDA_VISIBLE_DEVICES\"]=\"0\"\n",
        "device = torch.device(\"cuda:0\" if torch.cuda.is_available() else \"cpu\")\n",
        " \n",
        "print(device)"
      ],
      "id": "pending-subject",
      "execution_count": null,
      "outputs": [
        {
          "output_type": "stream",
          "text": [
            "cuda:0\n"
          ],
          "name": "stdout"
        }
      ]
    },
    {
      "cell_type": "code",
      "metadata": {
        "id": "editorial-locking"
      },
      "source": [
        "def tripple_conv(in_chan, out_chan):\n",
        "    conv =nn.Sequential(\n",
        "        nn.Conv2d(in_chan, out_chan, kernel_size=3, padding=1),\n",
        "        nn.ELU(inplace=True),\n",
        "        nn.Conv2d(out_chan, out_chan, kernel_size=3, padding=1),\n",
        "        nn.ELU(inplace=True),\n",
        "        nn.Conv2d(out_chan, out_chan, kernel_size=3, padding=1),\n",
        "        nn.ELU(inplace=True)\n",
        "    )\n",
        "    return conv\n",
        "\n",
        "def double_conv_sigmoid(in_chan, out_chan):\n",
        "    conv =nn.Sequential(\n",
        "        nn.Conv2d(in_chan, out_chan, kernel_size=3, padding=1),\n",
        "        nn.ELU(inplace=True),\n",
        "        nn.Conv2d(out_chan, out_chan, kernel_size=3, padding=1),\n",
        "        nn.Sigmoid()\n",
        "    )\n",
        "    return conv\n",
        "\n",
        "def double_conv_tanh(in_chan, out_chan):\n",
        "    conv =nn.Sequential(\n",
        "        nn.Conv2d(in_chan, out_chan, kernel_size=3, padding=1),\n",
        "        nn.ELU(inplace=True),\n",
        "        nn.Conv2d(out_chan, out_chan, kernel_size=3, padding=1),\n",
        "        nn.Tanh()\n",
        "    )\n",
        "    return conv"
      ],
      "id": "editorial-locking",
      "execution_count": null,
      "outputs": []
    },
    {
      "cell_type": "code",
      "metadata": {
        "id": "brown-university"
      },
      "source": [
        "class UNet(nn.Module):\n",
        "    def __init__(self):\n",
        "        super(UNet, self).__init__()\n",
        "\n",
        "        self.max_pool_2x2 = nn.MaxPool2d(kernel_size=2, stride=2)\n",
        "        self.down_conv_1 = tripple_conv(1, 48)\n",
        "        self.down_conv_2 = tripple_conv(48, 96)\n",
        "        self.down_conv_3 = tripple_conv(96, 192)\n",
        "\n",
        "        self.up_trans_01 = nn.ConvTranspose2d(\n",
        "            in_channels=192,\n",
        "            out_channels=96,\n",
        "            kernel_size=2,\n",
        "            stride=2)\n",
        "        \n",
        "        self.up_conv_01 = tripple_conv(192, 96)\n",
        "        \n",
        "        self.up_trans_02= nn.ConvTranspose2d(\n",
        "            in_channels=96,\n",
        "            out_channels=48,\n",
        "            kernel_size=2,\n",
        "            stride=2)        \n",
        "        \n",
        "        self.up_conv_02 = tripple_conv(96, 48)\n",
        "        \n",
        "        #2nd temporal context module\n",
        "    \n",
        "        self.down_conv_11 = tripple_conv(144, 48)\n",
        "        self.down_conv_12 = tripple_conv(48, 96)\n",
        "        self.down_conv_13 = tripple_conv(96, 192)\n",
        "        \n",
        "        self.up_trans_11 = nn.ConvTranspose2d(\n",
        "            in_channels=192,\n",
        "            out_channels=96,\n",
        "            kernel_size=2,\n",
        "            stride=2)\n",
        "        self.up_conv_11 = tripple_conv(192, 96)\n",
        "        \n",
        "        self.up_trans_12= nn.ConvTranspose2d(\n",
        "            in_channels=96,\n",
        "            out_channels=48,\n",
        "            kernel_size=2,\n",
        "            stride=2)         \n",
        "        \n",
        "        self.up_conv_12 = tripple_conv(96, 48)   \n",
        "        \n",
        "        #tripple head output \n",
        "\n",
        "\n",
        "        self.out_coor_brightness =  double_conv_sigmoid(48, 1)    \n",
        "     \n",
        "\n",
        "    def forward(self, image):\n",
        "        x01 = self.down_conv_1(image)\n",
        "        x02 =  self.max_pool_2x2(x01)\n",
        "#        print('1st UNet down sampling stage 1 dimension', x02.size())\n",
        "        x03 = self.down_conv_2(x02)\n",
        "        x04 =  self.max_pool_2x2(x03) \n",
        "#        print('1st UNet down sampling stage 2 dimension', x04.size())\n",
        "        x05 = self.down_conv_3(x04)\n",
        "#        print('1st UNet transfer dimension', x05.size())\n",
        "\n",
        "        #decoder\n",
        "        x11 = self.up_trans_01(x05)\n",
        "        x12= self.up_conv_01(torch.cat([x11, x03], 1))\n",
        "#        print('1st UNet up sampling stage 1 dimension', x12.size())\n",
        "        x13 = self.up_trans_02(x12)\n",
        "        x14 = self.up_conv_02(torch.cat([x13, x01], 1))\n",
        "#        print('1st UNet up sampling stage 2 dimension', x14.size())\n",
        "#        print('x14', x14.size())\n",
        "\n",
        "        return x14\n",
        "\n",
        "    def temporal_context(self, image_t_min_1, image_t, image_t_plus_1):\n",
        "        t_min_1 = self.forward(image_t_min_1)\n",
        "        t = self.forward(image_t)\n",
        "        t_plus_1 = self.forward(image_t_plus_1)\n",
        "        output = torch.cat((t_min_1, t, t_plus_1), 1)\n",
        "        return output\n",
        "\n",
        "    def forward2(self, image_t_min_1, image_t, image_t_plus_1):\n",
        "        image1 = self.temporal_context(image_t_min_1, image_t, image_t_plus_1)\n",
        "        x21 = self.down_conv_11(image1) \n",
        "        x22 =  self.max_pool_2x2(x21) \n",
        "#        print('2nd UNet down sampling stage 1 dimension', x22.size())\n",
        "        x23 = self.down_conv_12(x22)    \n",
        "        x24 =  self.max_pool_2x2(x23) \n",
        "#        print('2nd UNet down sampling stage 2 dimension', x24.size())\n",
        "        x25 = self.down_conv_13(x24)\n",
        "#        print('2nd UNet transfer dimension', x25.size())\n",
        "        \n",
        "        #decoder\n",
        "        x31 = self.up_trans_11(x25)\n",
        "        x32= self.up_conv_11(torch.cat([x31, x23], 1))\n",
        "#        print('2nd UNet up sampling stage 1 dimension', x32.size())\n",
        "        x33 = self.up_trans_12(x32)\n",
        "        x34 = self.up_conv_12(torch.cat([x33, x21], 1))                \n",
        "#        print('2nd UNet up sampling stage 2 dimension', x34.size())\n",
        "\n",
        "        return x34   \n",
        "\n",
        "    def tripple_head(self, image_t_min_1, image_t, image_t_plus_1):\n",
        "        head_split= self.forward2(image_t_min_1, image_t, image_t_plus_1)\n",
        "#         print(head_split.size())\n",
        "\n",
        "        out_coordinates_brightness = self.out_coor_brightness(head_split)\n",
        "\n",
        "        \n",
        "\n",
        "#        print('size of out_coordinates_brightness = ', out_coordinates_brightness.size())\n",
        "\n",
        "        \n",
        "        return out_coordinates_brightness\n",
        "    "
      ],
      "id": "brown-university",
      "execution_count": null,
      "outputs": []
    },
    {
      "cell_type": "code",
      "metadata": {
        "id": "loaded-ranch"
      },
      "source": [
        "if __name__ == \"__main__\":\n",
        "    image_0 = torch.rand((1, 1, 40, 40))\n",
        "    image_1 = torch.rand((1, 1, 40, 40))\n",
        "    image_2 = torch.rand((1, 1, 40, 40))\n",
        "    \n",
        "    model_bolean = UNet().to(device)\n",
        "    y_pred = model_bolean.tripple_head(image_0.to(device), image_1.to(device), image_2.to(device))"
      ],
      "id": "loaded-ranch",
      "execution_count": null,
      "outputs": []
    },
    {
      "cell_type": "code",
      "metadata": {
        "id": "aggregate-texture",
        "colab": {
          "base_uri": "https://localhost:8080/",
          "height": 246
        },
        "outputId": "80055efa-718b-4bc0-e58e-348440808556"
      },
      "source": [
        "# Only run when not having the y_0_approx or y_binary Data-Set\n",
        "length = len(tar0)\n",
        "y = torch.zeros(length, 2, 40, 40)\n",
        "y_binary = torch.zeros(length, 1, 40, 40)\n",
        "for j in range(length): \n",
        "    for i in range(250):\n",
        "        y[j, 0, round(float(tar0[j,i,2])) , round(float(tar0[j,i,1])) ] = float(tar0[j,i,0])\n",
        "        y_binary[j, 0, round(float(tar0[j,i,2])) , round(float(tar0[j,i,1])) ] = 255\n",
        "        y[j, 1, round(float(tar0[j,i,2])) , round(float(tar0[j,i,1])) ] = float(tar0[j,i,3])  \n",
        "torch.save(y_binary, 'y_binary.pt')        \n",
        "torch.save(y, 'y_0_approx.pt') #y[i,j,k,l] i: #trainin instance, j=0: brightness, j=1: z-axis, k: x-axis, l: y-axis,"
      ],
      "id": "aggregate-texture",
      "execution_count": null,
      "outputs": [
        {
          "output_type": "error",
          "ename": "NameError",
          "evalue": "ignored",
          "traceback": [
            "\u001b[0;31m---------------------------------------------------------------------------\u001b[0m",
            "\u001b[0;31mNameError\u001b[0m                                 Traceback (most recent call last)",
            "\u001b[0;32m<ipython-input-8-7c36c75211e2>\u001b[0m in \u001b[0;36m<module>\u001b[0;34m()\u001b[0m\n\u001b[1;32m      1\u001b[0m \u001b[0;31m# Only run when not having the y_0_approx or y_binary Data-Set\u001b[0m\u001b[0;34m\u001b[0m\u001b[0;34m\u001b[0m\u001b[0;34m\u001b[0m\u001b[0m\n\u001b[0;32m----> 2\u001b[0;31m \u001b[0mlength\u001b[0m \u001b[0;34m=\u001b[0m \u001b[0mlen\u001b[0m\u001b[0;34m(\u001b[0m\u001b[0mtar0\u001b[0m\u001b[0;34m)\u001b[0m\u001b[0;34m\u001b[0m\u001b[0;34m\u001b[0m\u001b[0m\n\u001b[0m\u001b[1;32m      3\u001b[0m \u001b[0my\u001b[0m \u001b[0;34m=\u001b[0m \u001b[0mtorch\u001b[0m\u001b[0;34m.\u001b[0m\u001b[0mzeros\u001b[0m\u001b[0;34m(\u001b[0m\u001b[0mlength\u001b[0m\u001b[0;34m,\u001b[0m \u001b[0;36m2\u001b[0m\u001b[0;34m,\u001b[0m \u001b[0;36m40\u001b[0m\u001b[0;34m,\u001b[0m \u001b[0;36m40\u001b[0m\u001b[0;34m)\u001b[0m\u001b[0;34m\u001b[0m\u001b[0;34m\u001b[0m\u001b[0m\n\u001b[1;32m      4\u001b[0m \u001b[0my_binary\u001b[0m \u001b[0;34m=\u001b[0m \u001b[0mtorch\u001b[0m\u001b[0;34m.\u001b[0m\u001b[0mzeros\u001b[0m\u001b[0;34m(\u001b[0m\u001b[0mlength\u001b[0m\u001b[0;34m,\u001b[0m \u001b[0;36m1\u001b[0m\u001b[0;34m,\u001b[0m \u001b[0;36m40\u001b[0m\u001b[0;34m,\u001b[0m \u001b[0;36m40\u001b[0m\u001b[0;34m)\u001b[0m\u001b[0;34m\u001b[0m\u001b[0;34m\u001b[0m\u001b[0m\n\u001b[1;32m      5\u001b[0m \u001b[0;32mfor\u001b[0m \u001b[0mj\u001b[0m \u001b[0;32min\u001b[0m \u001b[0mrange\u001b[0m\u001b[0;34m(\u001b[0m\u001b[0mlength\u001b[0m\u001b[0;34m)\u001b[0m\u001b[0;34m:\u001b[0m\u001b[0;34m\u001b[0m\u001b[0;34m\u001b[0m\u001b[0m\n",
            "\u001b[0;31mNameError\u001b[0m: name 'tar0' is not defined"
          ]
        }
      ]
    },
    {
      "cell_type": "code",
      "metadata": {
        "id": "occupational-connectivity",
        "colab": {
          "base_uri": "https://localhost:8080/",
          "height": 477
        },
        "outputId": "953f36b2-a709-4dfe-c8ca-d21c7bdca753"
      },
      "source": [
        "idx = 1\n",
        "plt.imshow(y_binary[idx,0,:,:], cmap='gray')\n",
        "plt.scatter( tar0[idx,:,1], tar0[idx,:,2], s=300*tar0[idx,:,0], c='red', alpha=0.4)\n",
        "plt.show()"
      ],
      "id": "occupational-connectivity",
      "execution_count": null,
      "outputs": [
        {
          "output_type": "error",
          "ename": "NameError",
          "evalue": "ignored",
          "traceback": [
            "\u001b[0;31m---------------------------------------------------------------------------\u001b[0m",
            "\u001b[0;31mNameError\u001b[0m                                 Traceback (most recent call last)",
            "\u001b[0;32m<ipython-input-12-82eb879cbec6>\u001b[0m in \u001b[0;36m<module>\u001b[0;34m()\u001b[0m\n\u001b[1;32m      1\u001b[0m \u001b[0midx\u001b[0m \u001b[0;34m=\u001b[0m \u001b[0;36m1\u001b[0m\u001b[0;34m\u001b[0m\u001b[0;34m\u001b[0m\u001b[0m\n\u001b[1;32m      2\u001b[0m \u001b[0mplt\u001b[0m\u001b[0;34m.\u001b[0m\u001b[0mimshow\u001b[0m\u001b[0;34m(\u001b[0m\u001b[0my_binary\u001b[0m\u001b[0;34m[\u001b[0m\u001b[0midx\u001b[0m\u001b[0;34m,\u001b[0m\u001b[0;36m0\u001b[0m\u001b[0;34m,\u001b[0m\u001b[0;34m:\u001b[0m\u001b[0;34m,\u001b[0m\u001b[0;34m:\u001b[0m\u001b[0;34m]\u001b[0m\u001b[0;34m,\u001b[0m \u001b[0mcmap\u001b[0m\u001b[0;34m=\u001b[0m\u001b[0;34m'gray'\u001b[0m\u001b[0;34m)\u001b[0m\u001b[0;34m\u001b[0m\u001b[0;34m\u001b[0m\u001b[0m\n\u001b[0;32m----> 3\u001b[0;31m \u001b[0mplt\u001b[0m\u001b[0;34m.\u001b[0m\u001b[0mscatter\u001b[0m\u001b[0;34m(\u001b[0m \u001b[0mtar0\u001b[0m\u001b[0;34m[\u001b[0m\u001b[0midx\u001b[0m\u001b[0;34m,\u001b[0m\u001b[0;34m:\u001b[0m\u001b[0;34m,\u001b[0m\u001b[0;36m1\u001b[0m\u001b[0;34m]\u001b[0m\u001b[0;34m,\u001b[0m \u001b[0mtar0\u001b[0m\u001b[0;34m[\u001b[0m\u001b[0midx\u001b[0m\u001b[0;34m,\u001b[0m\u001b[0;34m:\u001b[0m\u001b[0;34m,\u001b[0m\u001b[0;36m2\u001b[0m\u001b[0;34m]\u001b[0m\u001b[0;34m,\u001b[0m \u001b[0ms\u001b[0m\u001b[0;34m=\u001b[0m\u001b[0;36m300\u001b[0m\u001b[0;34m*\u001b[0m\u001b[0mtar0\u001b[0m\u001b[0;34m[\u001b[0m\u001b[0midx\u001b[0m\u001b[0;34m,\u001b[0m\u001b[0;34m:\u001b[0m\u001b[0;34m,\u001b[0m\u001b[0;36m0\u001b[0m\u001b[0;34m]\u001b[0m\u001b[0;34m,\u001b[0m \u001b[0mc\u001b[0m\u001b[0;34m=\u001b[0m\u001b[0;34m'red'\u001b[0m\u001b[0;34m,\u001b[0m \u001b[0malpha\u001b[0m\u001b[0;34m=\u001b[0m\u001b[0;36m0.4\u001b[0m\u001b[0;34m)\u001b[0m\u001b[0;34m\u001b[0m\u001b[0;34m\u001b[0m\u001b[0m\n\u001b[0m\u001b[1;32m      4\u001b[0m \u001b[0mplt\u001b[0m\u001b[0;34m.\u001b[0m\u001b[0mshow\u001b[0m\u001b[0;34m(\u001b[0m\u001b[0;34m)\u001b[0m\u001b[0;34m\u001b[0m\u001b[0;34m\u001b[0m\u001b[0m\n",
            "\u001b[0;31mNameError\u001b[0m: name 'tar0' is not defined"
          ]
        },
        {
          "output_type": "display_data",
          "data": {
            "image/png": "[encoded data removed]",
            "text/plain": [
              "<Figure size 432x288 with 1 Axes>"
            ]
          },
          "metadata": {
            "tags": [],
            "needs_background": "light"
          }
        }
      ]
    },
    {
      "cell_type": "code",
      "metadata": {
        "id": "shared-carroll",
        "outputId": "c317b296-c89b-4bb6-b32f-9c6224e73f36"
      },
      "source": [
        "idx = 11\n",
        "plt.imshow(x_in[idx,0,:,:], cmap='gray')\n",
        "plt.scatter(tar0[idx,:,2], tar0[idx,:,1], s=300*tar0[idx,:,0], c='red')\n",
        "plt.show()\n",
        "\n",
        "plt.imshow(x_in[idx,1,:,:], cmap='gray')\n",
        "plt.scatter(tar0[idx,:,2], tar0[idx,:,1], s=300*tar0[idx,:,0], c='red')\n",
        "plt.show()\n",
        "\n",
        "plt.imshow(x_in[idx,2,:,:], cmap='gray')\n",
        "plt.scatter(tar0[idx,:,2], tar0[idx,:,1], s=300*tar0[idx,:,0], c='red')\n",
        "plt.show()"
      ],
      "id": "shared-carroll",
      "execution_count": null,
      "outputs": [
        {
          "output_type": "display_data",
          "data": {
            "image/png": "[encoded data removed]",
            "text/plain": [
              "<Figure size 432x288 with 1 Axes>"
            ]
          },
          "metadata": {
            "tags": []
          }
        },
        {
          "output_type": "display_data",
          "data": {
            "image/png": "[encoded data removed]",
            "text/plain": [
              "<Figure size 432x288 with 1 Axes>"
            ]
          },
          "metadata": {
            "tags": []
          }
        },
        {
          "output_type": "display_data",
          "data": {
            "image/png": "[encoded data removed]",
            "text/plain": [
              "<Figure size 432x288 with 1 Axes>"
            ]
          },
          "metadata": {
            "tags": []
          }
        }
      ]
    },
    {
      "cell_type": "code",
      "metadata": {
        "colab": {
          "base_uri": "https://localhost:8080/"
        },
        "id": "6bRDVx3xhuFd",
        "outputId": "84da3c60-a7ac-4a27-b597-e63b85776a51"
      },
      "source": [
        "torch.max(x_in[:,:,:,:])"
      ],
      "id": "6bRDVx3xhuFd",
      "execution_count": null,
      "outputs": [
        {
          "output_type": "execute_result",
          "data": {
            "text/plain": [
              "tensor(11.2621)"
            ]
          },
          "metadata": {
            "tags": []
          },
          "execution_count": 7
        }
      ]
    },
    {
      "cell_type": "code",
      "metadata": {
        "id": "beautiful-static",
        "colab": {
          "base_uri": "https://localhost:8080/",
          "height": 393
        },
        "outputId": "98c2335c-b409-4ab7-e135-f75387759852"
      },
      "source": [
        "########RESET PARAM#######\n",
        "# for layer in model_bolean.children():\n",
        "#    if hasattr(layer, 'reset_parameters'):\n",
        "#        layer.reset_parameters()\n",
        "##########################\n",
        "epoch_number = 0\n",
        "loss = nn.BCELoss()\n",
        "optimizer = torch.optim.AdamW(model_bolean.parameters(), lr=0.0006, weight_decay=0.1)\n",
        "for epoch in range(100):\n",
        "    epoch_number = epoch_number+1 \n",
        "    print('Epoch #', epoch_number)\n",
        "    i = 0\n",
        "    r = list(range(len(y_binary)))\n",
        "    random.shuffle(r)\n",
        "    for idx in r:\n",
        "        \n",
        "        i = i + 1\n",
        "        if i == 500:\n",
        "            print('traininginstance #', i)\n",
        "            # print(s)\n",
        "        if i%10 ==0:\n",
        "            print('traininginstance #', i)\n",
        "            # print(s)\n",
        "        \n",
        "        image_0 = torch.zeros((1, 1, 40, 40))\n",
        "        image_1 = torch.zeros((1, 1, 40, 40))\n",
        "        image_2 = torch.zeros((1, 1, 40, 40))\n",
        "\n",
        "        image_0[0,0]=   x_in[idx,0,:,:]   \n",
        "        image_1[0,0]=   x_in[idx,1,:,:]\n",
        "        image_2[0,0]=   x_in[idx,2,:,:]\n",
        "\n",
        "        optimizer.zero_grad()\n",
        "        model_bolean = UNet().to(device)\n",
        "        y_pred  = model_bolean.tripple_head(image_0.to(device), image_1.to(device), image_2.to(device))\n",
        "        y_pred = y_pred[0].to(device)\n",
        "        y_pred = y_pred[0].to(device) #nodig om het jusite formaat van [40, 40] te realiseren \n",
        "        \n",
        "        criterion = loss(y_pred, y_binary[idx,0,:,:].to(device)).to(device)   #y_pred.size() = [40, 40] , y_binary[idx,0,:,:].size = [40,40]\n",
        "        criterion.backward()\n",
        "        optimizer.step()\n",
        "        # s = torch.sum(model_bolean.up_conv_12.weight.data)\n",
        "    \n",
        "\n",
        "\n",
        "\n",
        "\n",
        "\n",
        "  "
      ],
      "id": "beautiful-static",
      "execution_count": null,
      "outputs": [
        {
          "output_type": "stream",
          "text": [
            "Epoch # 1\n"
          ],
          "name": "stdout"
        },
        {
          "output_type": "error",
          "ename": "AttributeError",
          "evalue": "ignored",
          "traceback": [
            "\u001b[0;31m---------------------------------------------------------------------------\u001b[0m",
            "\u001b[0;31mAttributeError\u001b[0m                            Traceback (most recent call last)",
            "\u001b[0;32m<ipython-input-36-1b8e14c8128c>\u001b[0m in \u001b[0;36m<module>\u001b[0;34m()\u001b[0m\n\u001b[1;32m     40\u001b[0m         \u001b[0mcriterion\u001b[0m\u001b[0;34m.\u001b[0m\u001b[0mbackward\u001b[0m\u001b[0;34m(\u001b[0m\u001b[0;34m)\u001b[0m\u001b[0;34m\u001b[0m\u001b[0;34m\u001b[0m\u001b[0m\n\u001b[1;32m     41\u001b[0m         \u001b[0moptimizer\u001b[0m\u001b[0;34m.\u001b[0m\u001b[0mstep\u001b[0m\u001b[0;34m(\u001b[0m\u001b[0;34m)\u001b[0m\u001b[0;34m\u001b[0m\u001b[0;34m\u001b[0m\u001b[0m\n\u001b[0;32m---> 42\u001b[0;31m         \u001b[0ms\u001b[0m \u001b[0;34m=\u001b[0m \u001b[0mtorch\u001b[0m\u001b[0;34m.\u001b[0m\u001b[0msum\u001b[0m\u001b[0;34m(\u001b[0m\u001b[0mmodel_bolean\u001b[0m\u001b[0;34m.\u001b[0m\u001b[0mup_conv_12\u001b[0m\u001b[0;34m.\u001b[0m\u001b[0mweight\u001b[0m\u001b[0;34m.\u001b[0m\u001b[0mdata\u001b[0m\u001b[0;34m)\u001b[0m\u001b[0;34m\u001b[0m\u001b[0;34m\u001b[0m\u001b[0m\n\u001b[0m\u001b[1;32m     43\u001b[0m \u001b[0;34m\u001b[0m\u001b[0m\n\u001b[1;32m     44\u001b[0m \u001b[0;34m\u001b[0m\u001b[0m\n",
            "\u001b[0;32m/usr/local/lib/python3.7/dist-packages/torch/nn/modules/module.py\u001b[0m in \u001b[0;36m__getattr__\u001b[0;34m(self, name)\u001b[0m\n\u001b[1;32m    946\u001b[0m                 \u001b[0;32mreturn\u001b[0m \u001b[0mmodules\u001b[0m\u001b[0;34m[\u001b[0m\u001b[0mname\u001b[0m\u001b[0;34m]\u001b[0m\u001b[0;34m\u001b[0m\u001b[0;34m\u001b[0m\u001b[0m\n\u001b[1;32m    947\u001b[0m         raise AttributeError(\"'{}' object has no attribute '{}'\".format(\n\u001b[0;32m--> 948\u001b[0;31m             type(self).__name__, name))\n\u001b[0m\u001b[1;32m    949\u001b[0m \u001b[0;34m\u001b[0m\u001b[0m\n\u001b[1;32m    950\u001b[0m     \u001b[0;32mdef\u001b[0m \u001b[0m__setattr__\u001b[0m\u001b[0;34m(\u001b[0m\u001b[0mself\u001b[0m\u001b[0;34m,\u001b[0m \u001b[0mname\u001b[0m\u001b[0;34m:\u001b[0m \u001b[0mstr\u001b[0m\u001b[0;34m,\u001b[0m \u001b[0mvalue\u001b[0m\u001b[0;34m:\u001b[0m \u001b[0mUnion\u001b[0m\u001b[0;34m[\u001b[0m\u001b[0mTensor\u001b[0m\u001b[0;34m,\u001b[0m \u001b[0;34m'Module'\u001b[0m\u001b[0;34m]\u001b[0m\u001b[0;34m)\u001b[0m \u001b[0;34m->\u001b[0m \u001b[0;32mNone\u001b[0m\u001b[0;34m:\u001b[0m\u001b[0;34m\u001b[0m\u001b[0;34m\u001b[0m\u001b[0m\n",
            "\u001b[0;31mAttributeError\u001b[0m: 'Sequential' object has no attribute 'weight'"
          ]
        }
      ]
    },
    {
      "cell_type": "code",
      "metadata": {
        "colab": {
          "base_uri": "https://localhost:8080/"
        },
        "id": "PNeA2g619bDT",
        "outputId": "35b58c53-fbed-4ec7-8cea-db15a1056c72"
      },
      "source": [
        ""
      ],
      "id": "PNeA2g619bDT",
      "execution_count": null,
      "outputs": [
        {
          "output_type": "stream",
          "text": [
            "100\n"
          ],
          "name": "stdout"
        }
      ]
    },
    {
      "cell_type": "code",
      "metadata": {
        "id": "athletic-victorian",
        "colab": {
          "base_uri": "https://localhost:8080/"
        },
        "outputId": "ccd86186-fba0-4e7c-b713-efe15de33cd0"
      },
      "source": [
        "\n",
        "net = UNet()\n",
        "print(net)"
      ],
      "id": "athletic-victorian",
      "execution_count": null,
      "outputs": [
        {
          "output_type": "stream",
          "text": [
            "UNet(\n",
            "  (max_pool_2x2): MaxPool2d(kernel_size=2, stride=2, padding=0, dilation=1, ceil_mode=False)\n",
            "  (down_conv_1): Sequential(\n",
            "    (0): Conv2d(1, 48, kernel_size=(3, 3), stride=(1, 1), padding=(1, 1))\n",
            "    (1): ELU(alpha=1.0, inplace=True)\n",
            "    (2): Conv2d(48, 48, kernel_size=(3, 3), stride=(1, 1), padding=(1, 1))\n",
            "    (3): ELU(alpha=1.0, inplace=True)\n",
            "    (4): Conv2d(48, 48, kernel_size=(3, 3), stride=(1, 1), padding=(1, 1))\n",
            "    (5): ELU(alpha=1.0, inplace=True)\n",
            "  )\n",
            "  (down_conv_2): Sequential(\n",
            "    (0): Conv2d(48, 96, kernel_size=(3, 3), stride=(1, 1), padding=(1, 1))\n",
            "    (1): ELU(alpha=1.0, inplace=True)\n",
            "    (2): Conv2d(96, 96, kernel_size=(3, 3), stride=(1, 1), padding=(1, 1))\n",
            "    (3): ELU(alpha=1.0, inplace=True)\n",
            "    (4): Conv2d(96, 96, kernel_size=(3, 3), stride=(1, 1), padding=(1, 1))\n",
            "    (5): ELU(alpha=1.0, inplace=True)\n",
            "  )\n",
            "  (down_conv_3): Sequential(\n",
            "    (0): Conv2d(96, 192, kernel_size=(3, 3), stride=(1, 1), padding=(1, 1))\n",
            "    (1): ELU(alpha=1.0, inplace=True)\n",
            "    (2): Conv2d(192, 192, kernel_size=(3, 3), stride=(1, 1), padding=(1, 1))\n",
            "    (3): ELU(alpha=1.0, inplace=True)\n",
            "    (4): Conv2d(192, 192, kernel_size=(3, 3), stride=(1, 1), padding=(1, 1))\n",
            "    (5): ELU(alpha=1.0, inplace=True)\n",
            "  )\n",
            "  (up_trans_01): ConvTranspose2d(192, 96, kernel_size=(2, 2), stride=(2, 2))\n",
            "  (up_conv_01): Sequential(\n",
            "    (0): Conv2d(192, 96, kernel_size=(3, 3), stride=(1, 1), padding=(1, 1))\n",
            "    (1): ELU(alpha=1.0, inplace=True)\n",
            "    (2): Conv2d(96, 96, kernel_size=(3, 3), stride=(1, 1), padding=(1, 1))\n",
            "    (3): ELU(alpha=1.0, inplace=True)\n",
            "    (4): Conv2d(96, 96, kernel_size=(3, 3), stride=(1, 1), padding=(1, 1))\n",
            "    (5): ELU(alpha=1.0, inplace=True)\n",
            "  )\n",
            "  (up_trans_02): ConvTranspose2d(96, 48, kernel_size=(2, 2), stride=(2, 2))\n",
            "  (up_conv_02): Sequential(\n",
            "    (0): Conv2d(96, 48, kernel_size=(3, 3), stride=(1, 1), padding=(1, 1))\n",
            "    (1): ELU(alpha=1.0, inplace=True)\n",
            "    (2): Conv2d(48, 48, kernel_size=(3, 3), stride=(1, 1), padding=(1, 1))\n",
            "    (3): ELU(alpha=1.0, inplace=True)\n",
            "    (4): Conv2d(48, 48, kernel_size=(3, 3), stride=(1, 1), padding=(1, 1))\n",
            "    (5): ELU(alpha=1.0, inplace=True)\n",
            "  )\n",
            "  (down_conv_11): Sequential(\n",
            "    (0): Conv2d(144, 48, kernel_size=(3, 3), stride=(1, 1), padding=(1, 1))\n",
            "    (1): ELU(alpha=1.0, inplace=True)\n",
            "    (2): Conv2d(48, 48, kernel_size=(3, 3), stride=(1, 1), padding=(1, 1))\n",
            "    (3): ELU(alpha=1.0, inplace=True)\n",
            "    (4): Conv2d(48, 48, kernel_size=(3, 3), stride=(1, 1), padding=(1, 1))\n",
            "    (5): ELU(alpha=1.0, inplace=True)\n",
            "  )\n",
            "  (down_conv_12): Sequential(\n",
            "    (0): Conv2d(48, 96, kernel_size=(3, 3), stride=(1, 1), padding=(1, 1))\n",
            "    (1): ELU(alpha=1.0, inplace=True)\n",
            "    (2): Conv2d(96, 96, kernel_size=(3, 3), stride=(1, 1), padding=(1, 1))\n",
            "    (3): ELU(alpha=1.0, inplace=True)\n",
            "    (4): Conv2d(96, 96, kernel_size=(3, 3), stride=(1, 1), padding=(1, 1))\n",
            "    (5): ELU(alpha=1.0, inplace=True)\n",
            "  )\n",
            "  (down_conv_13): Sequential(\n",
            "    (0): Conv2d(96, 192, kernel_size=(3, 3), stride=(1, 1), padding=(1, 1))\n",
            "    (1): ELU(alpha=1.0, inplace=True)\n",
            "    (2): Conv2d(192, 192, kernel_size=(3, 3), stride=(1, 1), padding=(1, 1))\n",
            "    (3): ELU(alpha=1.0, inplace=True)\n",
            "    (4): Conv2d(192, 192, kernel_size=(3, 3), stride=(1, 1), padding=(1, 1))\n",
            "    (5): ELU(alpha=1.0, inplace=True)\n",
            "  )\n",
            "  (up_trans_11): ConvTranspose2d(192, 96, kernel_size=(2, 2), stride=(2, 2))\n",
            "  (up_conv_11): Sequential(\n",
            "    (0): Conv2d(192, 96, kernel_size=(3, 3), stride=(1, 1), padding=(1, 1))\n",
            "    (1): ELU(alpha=1.0, inplace=True)\n",
            "    (2): Conv2d(96, 96, kernel_size=(3, 3), stride=(1, 1), padding=(1, 1))\n",
            "    (3): ELU(alpha=1.0, inplace=True)\n",
            "    (4): Conv2d(96, 96, kernel_size=(3, 3), stride=(1, 1), padding=(1, 1))\n",
            "    (5): ELU(alpha=1.0, inplace=True)\n",
            "  )\n",
            "  (up_trans_12): ConvTranspose2d(96, 48, kernel_size=(2, 2), stride=(2, 2))\n",
            "  (up_conv_12): Sequential(\n",
            "    (0): Conv2d(96, 48, kernel_size=(3, 3), stride=(1, 1), padding=(1, 1))\n",
            "    (1): ELU(alpha=1.0, inplace=True)\n",
            "    (2): Conv2d(48, 48, kernel_size=(3, 3), stride=(1, 1), padding=(1, 1))\n",
            "    (3): ELU(alpha=1.0, inplace=True)\n",
            "    (4): Conv2d(48, 48, kernel_size=(3, 3), stride=(1, 1), padding=(1, 1))\n",
            "    (5): ELU(alpha=1.0, inplace=True)\n",
            "  )\n",
            "  (out_coor_brightness): Sequential(\n",
            "    (0): Conv2d(48, 1, kernel_size=(3, 3), stride=(1, 1), padding=(1, 1))\n",
            "    (1): ELU(alpha=1.0, inplace=True)\n",
            "    (2): Conv2d(1, 1, kernel_size=(3, 3), stride=(1, 1), padding=(1, 1))\n",
            "    (3): Sigmoid()\n",
            "  )\n",
            ")\n"
          ],
          "name": "stdout"
        }
      ]
    },
    {
      "cell_type": "code",
      "metadata": {
        "id": "functional-clinic"
      },
      "source": [
        "########RESET PARAM#######\n",
        "# for layer in model.children():\n",
        "#    if hasattr(layer, 'reset_parameters'):\n",
        "#        layer.reset_parameters()"
      ],
      "id": "functional-clinic",
      "execution_count": null,
      "outputs": []
    },
    {
      "cell_type": "code",
      "metadata": {
        "id": "gentle-evanescence"
      },
      "source": [
        "idx = 1\n",
        "if __name__ == \"__main__\":\n",
        "    image_0 = torch.rand((1, 1, 40, 40))\n",
        "    image_1 = torch.rand((1, 1, 40, 40))\n",
        "    image_2 = torch.rand((1, 1, 40, 40))\n",
        "\n",
        "    image_0[0,0]=   x_in[idx,0,:,:]   \n",
        "    image_1[0,0]=   x_in[idx,1,:,:]\n",
        "    image_2[0,0]=   x_in[idx,2,:,:]\n",
        "    \n",
        "    \n",
        "    y_pred = model_bolean.tripple_head(image_0.to(device), image_1.to(device), image_2.to(device))"
      ],
      "id": "gentle-evanescence",
      "execution_count": null,
      "outputs": []
    },
    {
      "cell_type": "code",
      "metadata": {
        "id": "broadband-peace",
        "colab": {
          "base_uri": "https://localhost:8080/",
          "height": 267
        },
        "outputId": "40b41944-dfc1-452d-e917-a8ea6f681b18"
      },
      "source": [
        "y_pred_np = y_pred.cpu().detach().numpy()\n",
        "plt.imshow(y_pred_np[0,0,:,:], cmap='gray')\n",
        "# plt.scatter(tar0[idx,:,2], tar0[idx,:,1], s=300*tar0[idx,:,0], c='red', alpha=0.1)\n",
        "plt.show()"
      ],
      "id": "broadband-peace",
      "execution_count": null,
      "outputs": [
        {
          "output_type": "display_data",
          "data": {
            "image/png": "[encoded data removed]",
            "text/plain": [
              "<Figure size 432x288 with 1 Axes>"
            ]
          },
          "metadata": {
            "tags": [],
            "needs_background": "light"
          }
        }
      ]
    },
    {
      "cell_type": "code",
      "metadata": {
        "id": "detailed-scheduling",
        "outputId": "806182ad-ab02-43bf-8cf1-c5bdfb98b6a8"
      },
      "source": [
        "\n",
        "plt.imshow(x_in[idx,2,:,:], cmap='gray')\n",
        "plt.scatter(tar0[idx,:,2], tar0[idx,:,1], s=300*tar0[idx,:,0], c='red')\n",
        "plt.show()   "
      ],
      "id": "detailed-scheduling",
      "execution_count": null,
      "outputs": [
        {
          "output_type": "display_data",
          "data": {
            "image/png": "[encoded data removed]",
            "text/plain": [
              "<Figure size 432x288 with 1 Axes>"
            ]
          },
          "metadata": {
            "tags": []
          }
        }
      ]
    },
    {
      "cell_type": "code",
      "metadata": {
        "id": "settled-barcelona",
        "outputId": "e9fcf086-efe6-4e56-f888-85bbeea1a9bc"
      },
      "source": [
        "print(y_pred_np)"
      ],
      "id": "settled-barcelona",
      "execution_count": null,
      "outputs": [
        {
          "output_type": "stream",
          "text": [
            "[[[[0.5075613  0.5080843  0.50848436 ... 0.508834   0.5098525\n",
            "    0.5106619 ]\n",
            "   [0.5046848  0.504403   0.5048233  ... 0.50565517 0.50796384\n",
            "    0.5101184 ]\n",
            "   [0.5041604  0.5033722  0.5038501  ... 0.5041182  0.5075084\n",
            "    0.510019  ]\n",
            "   ...\n",
            "   [0.5037332  0.5026437  0.5028648  ... 0.5030404  0.50648713\n",
            "    0.50953245]\n",
            "   [0.5039799  0.5022465  0.5022488  ... 0.5024572  0.50594616\n",
            "    0.50912094]\n",
            "   [0.5052697  0.5028019  0.5021135  ... 0.5020529  0.5046455\n",
            "    0.5076763 ]]]]\n"
          ],
          "name": "stdout"
        }
      ]
    }
  ]
}